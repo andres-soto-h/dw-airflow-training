{
 "cells": [
  {
   "cell_type": "code",
   "execution_count": null,
   "metadata": {},
   "outputs": [],
   "source": [
    "!pip install pandas\n",
    "!pip install mysql-connector-python\n",
    "!pip install openpyxl"
   ]
  },
  {
   "attachments": {},
   "cell_type": "markdown",
   "metadata": {},
   "source": [
    "#Inicializar docker desde la consola: sudo dockerd"
   ]
  },
  {
   "cell_type": "code",
   "execution_count": null,
   "metadata": {},
   "outputs": [],
   "source": [
    "import pandas as pd\n",
    "import mysql.connector"
   ]
  },
  {
   "attachments": {},
   "cell_type": "markdown",
   "metadata": {},
   "source": [
    "## CARGAR EL PRIMER DATASET EN STAGING"
   ]
  },
  {
   "cell_type": "code",
   "execution_count": null,
   "metadata": {},
   "outputs": [],
   "source": [
    "df = pd.read_csv('../data/raw/ISCED_2013.csv', encoding ='latin-1', delimiter=';')"
   ]
  },
  {
   "cell_type": "code",
   "execution_count": null,
   "metadata": {},
   "outputs": [],
   "source": [
    "df.head()"
   ]
  },
  {
   "cell_type": "code",
   "execution_count": null,
   "metadata": {},
   "outputs": [],
   "source": [
    "columns = df.columns\n",
    "new_columns_dict = {}\n",
    "cod_count = 1\n",
    "nom_count = 1\n",
    "\n",
    "for col in columns:\n",
    "    if 'COD_' in col:\n",
    "        new_columns_dict[col] = f'codigo_rama_{cod_count}'\n",
    "        cod_count += 1\n",
    "    elif 'NOM_' in col:\n",
    "        new_columns_dict[col] = f'nombre_rama_{nom_count}'\n",
    "        nom_count += 1\n",
    "    else:\n",
    "        new_columns_dict[col] = col\n",
    "\n",
    "# Use the rename() method to rename the columns\n",
    "df.rename(columns=new_columns_dict, inplace=True)\n",
    "\n",
    "# Print the updated DataFrame\n",
    "df.head(2)"
   ]
  },
  {
   "cell_type": "code",
   "execution_count": null,
   "metadata": {},
   "outputs": [],
   "source": [
    "cnx =mysql.connector.connect(\n",
    "    host='localhost',\n",
    "    user='admin',\n",
    "    password='admin',\n",
    "    database='dw',\n",
    "    auth_plugin='mysql_native_password'\n",
    ")\n",
    "\n",
    "cursor = cnx.cursor()"
   ]
  },
  {
   "cell_type": "code",
   "execution_count": null,
   "metadata": {},
   "outputs": [],
   "source": [
    "data = [tuple(row) for _, row in df.iterrows()]\n",
    "\n",
    "query=f\"INSERT INTO stage_ramas_conocimiento VALUES ({','.join(['%s'] * len(df.columns))})\"\n",
    "\n",
    "cursor.executemany(query, data)\n",
    "\n",
    "try:\n",
    "    cnx.commit()\n",
    "    print(\"Datos insertados de manera exitosa!\")\n",
    "except Exception as e:\n",
    "    print(\"Error al insertar los datos\")\n",
    "    print(\"Error code:\", e.errno)\n",
    "    print(\"Error description:\", e.strerror)"
   ]
  },
  {
   "cell_type": "code",
   "execution_count": null,
   "metadata": {},
   "outputs": [],
   "source": [
    "query=f\"SELECT * FROM stage_ramas_conocimiento\"\n",
    "\n",
    "df_2 = pd.read_sql(query, cnx)\n",
    "\n",
    "df_2.head(2)\n",
    "\n",
    "cursor.close()"
   ]
  },
  {
   "cell_type": "code",
   "execution_count": null,
   "metadata": {},
   "outputs": [],
   "source": [
    "#mysql -u admin -p"
   ]
  },
  {
   "attachments": {},
   "cell_type": "markdown",
   "metadata": {},
   "source": [
    "## CARGAR EL SEGUNDO DATASET EN STAGING"
   ]
  },
  {
   "cell_type": "code",
   "execution_count": null,
   "metadata": {},
   "outputs": [],
   "source": [
    "#Read data from SEGR1.csv SEGR2.csv files\n",
    "df_1 = pd.read_csv('../data/raw/SEGR1.csv', encoding ='latin-1', delimiter=';')\n",
    "df_2 = pd.read_csv('../data/raw/SEGR2.csv', encoding ='latin-1', delimiter=';')"
   ]
  },
  {
   "cell_type": "code",
   "execution_count": null,
   "metadata": {},
   "outputs": [],
   "source": [
    "df_union = pd.concat([df_1, df_2])\n",
    "df_union.head(2)"
   ]
  },
  {
   "cell_type": "code",
   "execution_count": null,
   "metadata": {},
   "outputs": [],
   "source": [
    "data_cols = df_union.columns\n",
    "\n",
    "id_columns = [col for col in data_cols if not 'EGR_' in col]\n",
    "data_columns = [col for col in data_cols if 'EGR_' in col]"
   ]
  },
  {
   "cell_type": "code",
   "execution_count": null,
   "metadata": {},
   "outputs": [],
   "source": [
    "#Consolidar información de todos los años en una sola columna\n",
    "df_unpivot = pd.melt(df_union, id_vars=id_columns, value_vars=data_columns, var_name='año', value_name='num_egresados')\n",
    "\n",
    "#Actualizar columna de año usando los últimos dos digitos del encabezado\n",
    "df_unpivot['año'] = '20' + df_unpivot['año'].str[-2:]\n",
    "\n",
    "df_unpivot['pais'] = 'España'"
   ]
  },
  {
   "cell_type": "code",
   "execution_count": null,
   "metadata": {},
   "outputs": [],
   "source": [
    "#Validar resultados de la columna año\n",
    "df_unpivot['año'].value_counts()"
   ]
  },
  {
   "cell_type": "code",
   "execution_count": null,
   "metadata": {},
   "outputs": [],
   "source": [
    "df_unpivot.rename(columns={'UNIVERSIDAD':'nombre_universidad', 'TIPO_UNIVERSIDAD': 'tipo_universidad', 'MODALIDAD': 'modalidad', 'RAMA_ENSEÑANZA':'rama_enseñanza'}, inplace=True)"
   ]
  },
  {
   "cell_type": "code",
   "execution_count": null,
   "metadata": {},
   "outputs": [],
   "source": [
    "df_unpivot = df_unpivot[['año','pais','nombre_universidad','tipo_universidad','modalidad','rama_enseñanza','num_egresados']]\n",
    "df_unpivot.head(2)"
   ]
  },
  {
   "cell_type": "code",
   "execution_count": null,
   "metadata": {},
   "outputs": [],
   "source": [
    "df_unpivot.tipo_universidad.value_counts()"
   ]
  },
  {
   "cell_type": "code",
   "execution_count": null,
   "metadata": {},
   "outputs": [],
   "source": [
    "len(df_unpivot['nombre_universidad'].drop_duplicates())"
   ]
  },
  {
   "cell_type": "code",
   "execution_count": null,
   "metadata": {},
   "outputs": [],
   "source": [
    "len(df_unpivot['rama_enseñanza'].drop_duplicates())"
   ]
  },
  {
   "cell_type": "code",
   "execution_count": null,
   "metadata": {},
   "outputs": [],
   "source": [
    "df_unpivot.info()"
   ]
  },
  {
   "cell_type": "code",
   "execution_count": null,
   "metadata": {},
   "outputs": [],
   "source": [
    "cursor = cnx.cursor()\n",
    "\n",
    "data = [tuple(row) for _, row in df_unpivot.iterrows()]\n",
    "\n",
    "query=f\"INSERT INTO stage_egresados_universidad VALUES ({','.join(['%s'] * len(df_unpivot.columns))})\"\n",
    "\n",
    "cursor.executemany(query, data)\n",
    "\n",
    "try:\n",
    "    cnx.commit()\n",
    "    print(\"Datos insertados de manera exitosa!\")\n",
    "except Exception as e:\n",
    "    print(\"Error al insertar los datos\")\n",
    "    print(\"Error code:\", e.errno)\n",
    "    print(\"Error description:\", e.strerror)"
   ]
  },
  {
   "cell_type": "code",
   "execution_count": null,
   "metadata": {},
   "outputs": [],
   "source": [
    "query=f\"SELECT * FROM stage_egresados_universidad\"\n",
    "\n",
    "df_2 = pd.read_sql(query, cnx)\n",
    "\n",
    "df_2.head(2)"
   ]
  },
  {
   "cell_type": "code",
   "execution_count": null,
   "metadata": {},
   "outputs": [],
   "source": [
    "cursor.close()"
   ]
  },
  {
   "attachments": {},
   "cell_type": "markdown",
   "metadata": {},
   "source": [
    "## CARGAR EL TERCER DATASET EN STAGING"
   ]
  },
  {
   "cell_type": "code",
   "execution_count": null,
   "metadata": {},
   "outputs": [],
   "source": [
    "df_1 = pd.read_excel('../data/raw/educ_uoe_grad01.xlsx', sheet_name='Data', skiprows=11, nrows=13)\n",
    "df_2 = pd.read_excel('../data/raw/educ_uoe_grad01.xlsx', sheet_name='Data2', skiprows=11, nrows=13)\n",
    "df_3 = pd.read_excel('../data/raw/educ_uoe_grad01.xlsx', sheet_name='Data3', skiprows=11, nrows=13)"
   ]
  },
  {
   "cell_type": "code",
   "execution_count": null,
   "metadata": {},
   "outputs": [],
   "source": [
    "df_1.drop('Unnamed: 6', inplace=True, axis=1)"
   ]
  },
  {
   "cell_type": "code",
   "execution_count": null,
   "metadata": {},
   "outputs": [],
   "source": [
    "#Consolidar información de todos los años en una sola columna\n",
    "df1_unpivot = pd.melt(df_1, id_vars=['GEO/TIME'], value_vars=['2013','2014','2015','2016','2017'], var_name='year', value_name='num_graduated')\n",
    "\n",
    "#Consolidar información de todos los años en una sola columna\n",
    "df2_unpivot = pd.melt(df_2, id_vars=['GEO/TIME'], value_vars=['2013','2014','2015','2016','2017'], var_name='year', value_name='num_graduated_M')\n",
    "\n",
    "#Consolidar información de todos los años en una sola columna\n",
    "df3_unpivot = pd.melt(df_3, id_vars=['GEO/TIME'], value_vars=['2013','2014','2015','2016','2017'], var_name='year', value_name='num_graduated_F')"
   ]
  },
  {
   "cell_type": "code",
   "execution_count": null,
   "metadata": {},
   "outputs": [],
   "source": [
    "merge_df = df1_unpivot.merge(df2_unpivot, on=['GEO/TIME','year'] , how='left')\n",
    "merge_df = merge_df.merge(df3_unpivot, on=['GEO/TIME','year'], how='left')\n",
    "merge_df.head(2)"
   ]
  },
  {
   "cell_type": "code",
   "execution_count": null,
   "metadata": {},
   "outputs": [],
   "source": [
    "merge_df.rename(columns={'GEO/TIME': 'country'}, inplace=True)\n",
    "\n",
    "#Cambiar el orden de las columnas\n",
    "merge_df = merge_df[['year','country','num_graduated_M','num_graduated_F','num_graduated']]\n",
    "\n",
    "merge_df.replace(':', 0, inplace=True)"
   ]
  },
  {
   "cell_type": "code",
   "execution_count": null,
   "metadata": {},
   "outputs": [],
   "source": [
    "merge_df.country.value_counts()"
   ]
  },
  {
   "cell_type": "code",
   "execution_count": null,
   "metadata": {},
   "outputs": [],
   "source": [
    "cursor = cnx.cursor()\n",
    "\n",
    "data = [tuple(row) for _, row in merge_df.iterrows()]\n",
    "\n",
    "query=f\"INSERT INTO stage_numero_egresados_internacional VALUES ({','.join(['%s'] * len(merge_df.columns))})\"\n",
    "\n",
    "cursor.executemany(query, data)\n",
    "\n",
    "try:\n",
    "    cnx.commit()\n",
    "    print(\"Datos insertados de manera exitosa!\")\n",
    "except Exception as e:\n",
    "    print(\"Error al insertar los datos\")\n",
    "    print(\"Error code:\", e.errno)\n",
    "    print(\"Error description:\", e.strerror)"
   ]
  },
  {
   "cell_type": "code",
   "execution_count": null,
   "metadata": {},
   "outputs": [],
   "source": [
    "query=f\"SELECT * FROM stage_numero_egresados_internacional\"\n",
    "\n",
    "df_2 = pd.read_sql(query, cnx)\n",
    "\n",
    "df_2.head(2)"
   ]
  },
  {
   "cell_type": "code",
   "execution_count": null,
   "metadata": {},
   "outputs": [],
   "source": [
    "cursor.close()"
   ]
  },
  {
   "cell_type": "code",
   "execution_count": null,
   "metadata": {},
   "outputs": [],
   "source": [
    "cnx.close()"
   ]
  }
 ],
 "metadata": {
  "kernelspec": {
   "display_name": "Python 3",
   "language": "python",
   "name": "python3"
  },
  "language_info": {
   "codemirror_mode": {
    "name": "ipython",
    "version": 3
   },
   "file_extension": ".py",
   "mimetype": "text/x-python",
   "name": "python",
   "nbconvert_exporter": "python",
   "pygments_lexer": "ipython3",
   "version": "3.10.6"
  },
  "orig_nbformat": 4
 },
 "nbformat": 4,
 "nbformat_minor": 2
}
