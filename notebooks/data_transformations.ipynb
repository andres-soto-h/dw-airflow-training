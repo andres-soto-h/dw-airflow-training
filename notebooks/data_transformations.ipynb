{
 "cells": [
  {
   "cell_type": "code",
   "execution_count": 55,
   "metadata": {},
   "outputs": [
    {
     "name": "stdout",
     "output_type": "stream",
     "text": [
      "Defaulting to user installation because normal site-packages is not writeable\n",
      "Requirement already satisfied: pandas in /home/andyson23/.local/lib/python3.10/site-packages (2.0.1)\n",
      "Requirement already satisfied: python-dateutil>=2.8.2 in /home/andyson23/.local/lib/python3.10/site-packages (from pandas) (2.8.2)\n",
      "Requirement already satisfied: pytz>=2020.1 in /home/andyson23/.local/lib/python3.10/site-packages (from pandas) (2023.3)\n",
      "Requirement already satisfied: tzdata>=2022.1 in /home/andyson23/.local/lib/python3.10/site-packages (from pandas) (2023.3)\n",
      "Requirement already satisfied: numpy>=1.21.0 in /home/andyson23/.local/lib/python3.10/site-packages (from pandas) (1.24.3)\n",
      "Requirement already satisfied: six>=1.5 in /usr/lib/python3/dist-packages (from python-dateutil>=2.8.2->pandas) (1.16.0)\n",
      "Defaulting to user installation because normal site-packages is not writeable\n",
      "Requirement already satisfied: mysql-connector-python in /home/andyson23/.local/lib/python3.10/site-packages (8.0.33)\n",
      "Requirement already satisfied: protobuf<=3.20.3,>=3.11.0 in /home/andyson23/.local/lib/python3.10/site-packages (from mysql-connector-python) (3.20.3)\n",
      "Defaulting to user installation because normal site-packages is not writeable\n",
      "Collecting openpyxl\n",
      "  Downloading openpyxl-3.1.2-py2.py3-none-any.whl (249 kB)\n",
      "\u001b[2K     \u001b[90m━━━━━━━━━━━━━━━━━━━━━━━━━━━━━━━━━━━━━━━\u001b[0m \u001b[32m250.0/250.0 kB\u001b[0m \u001b[31m1.7 MB/s\u001b[0m eta \u001b[36m0:00:00\u001b[0ma \u001b[36m0:00:01\u001b[0m\n",
      "\u001b[?25hCollecting et-xmlfile (from openpyxl)\n",
      "  Downloading et_xmlfile-1.1.0-py3-none-any.whl (4.7 kB)\n",
      "Installing collected packages: et-xmlfile, openpyxl\n",
      "Successfully installed et-xmlfile-1.1.0 openpyxl-3.1.2\n"
     ]
    }
   ],
   "source": [
    "!pip install pandas\n",
    "!pip install mysql-connector-python\n",
    "!pip install openpyxl"
   ]
  },
  {
   "cell_type": "code",
   "execution_count": 1,
   "metadata": {},
   "outputs": [],
   "source": [
    "import pandas as pd\n",
    "import mysql.connector"
   ]
  },
  {
   "attachments": {},
   "cell_type": "markdown",
   "metadata": {},
   "source": [
    "## CARGAR EL PRIMER DATASET EN STAGING"
   ]
  },
  {
   "cell_type": "code",
   "execution_count": 2,
   "metadata": {},
   "outputs": [],
   "source": [
    "df = pd.read_csv('../data/raw/ISCED_2013.csv', encoding ='latin-1', delimiter=';')"
   ]
  },
  {
   "cell_type": "code",
   "execution_count": 3,
   "metadata": {},
   "outputs": [
    {
     "data": {
      "text/html": [
       "<div>\n",
       "<style scoped>\n",
       "    .dataframe tbody tr th:only-of-type {\n",
       "        vertical-align: middle;\n",
       "    }\n",
       "\n",
       "    .dataframe tbody tr th {\n",
       "        vertical-align: top;\n",
       "    }\n",
       "\n",
       "    .dataframe thead th {\n",
       "        text-align: right;\n",
       "    }\n",
       "</style>\n",
       "<table border=\"1\" class=\"dataframe\">\n",
       "  <thead>\n",
       "    <tr style=\"text-align: right;\">\n",
       "      <th></th>\n",
       "      <th>COD_RAMA</th>\n",
       "      <th>NOM_RAMA</th>\n",
       "      <th>COD_RAMA_N2</th>\n",
       "      <th>NOM_RAMA_N2</th>\n",
       "      <th>COD_RAMA_N3</th>\n",
       "      <th>NOM_RAMA_N3</th>\n",
       "      <th>COD_RAMA_N4</th>\n",
       "      <th>NOM_RAMA_N4</th>\n",
       "      <th>COD_RAMA_N5</th>\n",
       "      <th>NOM_RAMA_N5</th>\n",
       "    </tr>\n",
       "  </thead>\n",
       "  <tbody>\n",
       "    <tr>\n",
       "      <th>0</th>\n",
       "      <td>1</td>\n",
       "      <td>Artes y humanidades</td>\n",
       "      <td>1</td>\n",
       "      <td>Educación</td>\n",
       "      <td>11</td>\n",
       "      <td>Educación</td>\n",
       "      <td>111</td>\n",
       "      <td>Ciencias de la educación</td>\n",
       "      <td>11101</td>\n",
       "      <td>Pedagogía</td>\n",
       "    </tr>\n",
       "    <tr>\n",
       "      <th>1</th>\n",
       "      <td>1</td>\n",
       "      <td>Artes y humanidades</td>\n",
       "      <td>1</td>\n",
       "      <td>Educación</td>\n",
       "      <td>11</td>\n",
       "      <td>Educación</td>\n",
       "      <td>111</td>\n",
       "      <td>Ciencias de la educación</td>\n",
       "      <td>11102</td>\n",
       "      <td>Didácticas específicas</td>\n",
       "    </tr>\n",
       "    <tr>\n",
       "      <th>2</th>\n",
       "      <td>1</td>\n",
       "      <td>Artes y humanidades</td>\n",
       "      <td>1</td>\n",
       "      <td>Educación</td>\n",
       "      <td>11</td>\n",
       "      <td>Educación</td>\n",
       "      <td>112</td>\n",
       "      <td>Formación de docentes de enseñanza infantil</td>\n",
       "      <td>11201</td>\n",
       "      <td>Educación infantil</td>\n",
       "    </tr>\n",
       "    <tr>\n",
       "      <th>3</th>\n",
       "      <td>1</td>\n",
       "      <td>Artes y humanidades</td>\n",
       "      <td>1</td>\n",
       "      <td>Educación</td>\n",
       "      <td>11</td>\n",
       "      <td>Educación</td>\n",
       "      <td>113</td>\n",
       "      <td>Formación de docentes de enseñanza primaria</td>\n",
       "      <td>11301</td>\n",
       "      <td>Educación primaria</td>\n",
       "    </tr>\n",
       "    <tr>\n",
       "      <th>4</th>\n",
       "      <td>1</td>\n",
       "      <td>Artes y humanidades</td>\n",
       "      <td>1</td>\n",
       "      <td>Educación</td>\n",
       "      <td>11</td>\n",
       "      <td>Educación</td>\n",
       "      <td>114</td>\n",
       "      <td>Formación de docentes de educación secundaria ...</td>\n",
       "      <td>11401</td>\n",
       "      <td>Otros maestros</td>\n",
       "    </tr>\n",
       "  </tbody>\n",
       "</table>\n",
       "</div>"
      ],
      "text/plain": [
       "   COD_RAMA              NOM_RAMA  COD_RAMA_N2 NOM_RAMA_N2  COD_RAMA_N3   \n",
       "0         1  Artes y humanidades             1  Educación            11  \\\n",
       "1         1  Artes y humanidades             1  Educación            11   \n",
       "2         1  Artes y humanidades             1  Educación            11   \n",
       "3         1  Artes y humanidades             1  Educación            11   \n",
       "4         1  Artes y humanidades             1  Educación            11   \n",
       "\n",
       "  NOM_RAMA_N3  COD_RAMA_N4                                        NOM_RAMA_N4   \n",
       "0  Educación           111                          Ciencias de la educación   \\\n",
       "1  Educación           111                          Ciencias de la educación    \n",
       "2  Educación           112       Formación de docentes de enseñanza infantil    \n",
       "3  Educación           113       Formación de docentes de enseñanza primaria    \n",
       "4  Educación           114  Formación de docentes de educación secundaria ...   \n",
       "\n",
       "   COD_RAMA_N5              NOM_RAMA_N5  \n",
       "0        11101               Pedagogía   \n",
       "1        11102  Didácticas específicas   \n",
       "2        11201       Educación infantil  \n",
       "3        11301      Educación primaria   \n",
       "4        11401          Otros maestros   "
      ]
     },
     "execution_count": 3,
     "metadata": {},
     "output_type": "execute_result"
    }
   ],
   "source": [
    "df.head()"
   ]
  },
  {
   "cell_type": "code",
   "execution_count": null,
   "metadata": {},
   "outputs": [],
   "source": [
    "columns = df.columns\n",
    "new_columns_dict = {}\n",
    "cod_count = 1\n",
    "nom_count = 1\n",
    "\n",
    "for col in columns:\n",
    "    if 'COD_' in col:\n",
    "        new_columns_dict[col] = f'codigo_rama_{cod_count}'\n",
    "        cod_count += 1\n",
    "    elif 'NOM_' in col:\n",
    "        new_columns_dict[col] = f'nombre_rama_{nom_count}'\n",
    "        nom_count += 1\n",
    "    else:\n",
    "        new_columns_dict[col] = col\n",
    "\n",
    "# Use the rename() method to rename the columns\n",
    "df.rename(columns=new_columns_dict, inplace=True)\n",
    "\n",
    "# Print the updated DataFrame\n",
    "df.head(2)"
   ]
  },
  {
   "cell_type": "code",
   "execution_count": 48,
   "metadata": {},
   "outputs": [],
   "source": [
    "cnx =mysql.connector.connect(\n",
    "    host='localhost',\n",
    "    user='admin',\n",
    "    password='admin',\n",
    "    database='dw',\n",
    "    auth_plugin='mysql_native_password'\n",
    ")\n",
    "\n",
    "cursor = cnx.cursor()"
   ]
  },
  {
   "cell_type": "code",
   "execution_count": null,
   "metadata": {},
   "outputs": [],
   "source": [
    "data = [tuple(row) for _, row in df.iterrows()]\n",
    "\n",
    "query=f\"INSERT INTO stage_ramas_conocimiento VALUES ({','.join(['%s'] * len(df.columns))})\"\n",
    "\n",
    "cursor.executemany(query, data)\n",
    "\n",
    "try:\n",
    "    cnx.commit()\n",
    "    print(\"Datos insertados de manera exitosa!\")\n",
    "except Exception as e:\n",
    "    print(\"Error al insertar los datos\")\n",
    "    print(\"Error code:\", e.errno)\n",
    "    print(\"Error description:\", e.strerror)"
   ]
  },
  {
   "cell_type": "code",
   "execution_count": null,
   "metadata": {},
   "outputs": [],
   "source": [
    "query=f\"SELECT * FROM stage_ramas_conocimiento\"\n",
    "\n",
    "df_2 = pd.read_sql(query, cnx)\n",
    "\n",
    "df_2.head(2)\n",
    "\n",
    "cursor.close()"
   ]
  },
  {
   "cell_type": "code",
   "execution_count": null,
   "metadata": {},
   "outputs": [],
   "source": [
    "#mysql -u admin -p"
   ]
  },
  {
   "attachments": {},
   "cell_type": "markdown",
   "metadata": {},
   "source": [
    "## CARGAR EL SEGUNDO DATASET EN STAGING"
   ]
  },
  {
   "cell_type": "code",
   "execution_count": 4,
   "metadata": {},
   "outputs": [],
   "source": [
    "#Read data from SEGR1.csv SEGR2.csv files\n",
    "df_1 = pd.read_csv('../data/raw/SEGR1.csv', encoding ='latin-1', delimiter=';')\n",
    "df_2 = pd.read_csv('../data/raw/SEGR2.csv', encoding ='latin-1', delimiter=';')"
   ]
  },
  {
   "cell_type": "code",
   "execution_count": 16,
   "metadata": {},
   "outputs": [
    {
     "data": {
      "text/html": [
       "<div>\n",
       "<style scoped>\n",
       "    .dataframe tbody tr th:only-of-type {\n",
       "        vertical-align: middle;\n",
       "    }\n",
       "\n",
       "    .dataframe tbody tr th {\n",
       "        vertical-align: top;\n",
       "    }\n",
       "\n",
       "    .dataframe thead th {\n",
       "        text-align: right;\n",
       "    }\n",
       "</style>\n",
       "<table border=\"1\" class=\"dataframe\">\n",
       "  <thead>\n",
       "    <tr style=\"text-align: right;\">\n",
       "      <th></th>\n",
       "      <th>TIPO_UNIVERSIDAD</th>\n",
       "      <th>MODALIDAD</th>\n",
       "      <th>UNIVERSIDAD</th>\n",
       "      <th>RAMA_ENSEÑANZA</th>\n",
       "      <th>EGR_C16_17</th>\n",
       "      <th>EGR_C15_16</th>\n",
       "      <th>EGR_C14_15</th>\n",
       "      <th>EGR_C13_14</th>\n",
       "      <th>EGR_C12_13</th>\n",
       "      <th>EGR_C11_12</th>\n",
       "      <th>EGR_C10_11</th>\n",
       "      <th>EGR_C09_10</th>\n",
       "    </tr>\n",
       "  </thead>\n",
       "  <tbody>\n",
       "    <tr>\n",
       "      <th>0</th>\n",
       "      <td>Universidades Privadas</td>\n",
       "      <td>Presencial</td>\n",
       "      <td>Abat Oliba CEU</td>\n",
       "      <td>Ciencias Sociales y Jurídicas</td>\n",
       "      <td>450</td>\n",
       "      <td>370</td>\n",
       "      <td>485</td>\n",
       "      <td>333</td>\n",
       "      <td>262</td>\n",
       "      <td>356</td>\n",
       "      <td>422</td>\n",
       "      <td>246</td>\n",
       "    </tr>\n",
       "    <tr>\n",
       "      <th>1</th>\n",
       "      <td>Universidades Privadas</td>\n",
       "      <td>Presencial</td>\n",
       "      <td>Abat Oliba CEU</td>\n",
       "      <td>Ingeniería y Arquitectura</td>\n",
       "      <td>0</td>\n",
       "      <td>0</td>\n",
       "      <td>0</td>\n",
       "      <td>0</td>\n",
       "      <td>0</td>\n",
       "      <td>0</td>\n",
       "      <td>0</td>\n",
       "      <td>0</td>\n",
       "    </tr>\n",
       "  </tbody>\n",
       "</table>\n",
       "</div>"
      ],
      "text/plain": [
       "         TIPO_UNIVERSIDAD   MODALIDAD     UNIVERSIDAD   \n",
       "0  Universidades Privadas  Presencial  Abat Oliba CEU  \\\n",
       "1  Universidades Privadas  Presencial  Abat Oliba CEU   \n",
       "\n",
       "                  RAMA_ENSEÑANZA  EGR_C16_17  EGR_C15_16  EGR_C14_15   \n",
       "0  Ciencias Sociales y Jurídicas         450         370         485  \\\n",
       "1      Ingeniería y Arquitectura           0           0           0   \n",
       "\n",
       "   EGR_C13_14  EGR_C12_13  EGR_C11_12  EGR_C10_11  EGR_C09_10  \n",
       "0         333         262         356         422         246  \n",
       "1           0           0           0           0           0  "
      ]
     },
     "execution_count": 16,
     "metadata": {},
     "output_type": "execute_result"
    }
   ],
   "source": [
    "df_union = pd.concat([df_1, df_2])\n",
    "df_union.head(2)"
   ]
  },
  {
   "cell_type": "code",
   "execution_count": 37,
   "metadata": {},
   "outputs": [],
   "source": [
    "data_cols = df_union.columns\n",
    "\n",
    "id_columns = [col for col in data_cols if not 'EGR_' in col]\n",
    "data_columns = [col for col in data_cols if 'EGR_' in col]"
   ]
  },
  {
   "cell_type": "code",
   "execution_count": 43,
   "metadata": {},
   "outputs": [],
   "source": [
    "#Consolidar información de todos los años en una sola columna\n",
    "df_unpivot = pd.melt(df_union, id_vars=id_columns, value_vars=data_columns, var_name='año', value_name='num_egresados')\n",
    "\n",
    "#Actualizar columna de año usando los últimos dos digitos del encabezado\n",
    "df_unpivot['año'] = '20' + df_unpivot['año'].str[-2:]\n",
    "\n",
    "df_unpivot['pais'] = 'España'"
   ]
  },
  {
   "cell_type": "code",
   "execution_count": 44,
   "metadata": {},
   "outputs": [
    {
     "data": {
      "text/plain": [
       "año\n",
       "2017    410\n",
       "2016    410\n",
       "2015    410\n",
       "2014    410\n",
       "2013    410\n",
       "2012    410\n",
       "2011    410\n",
       "2010    410\n",
       "Name: count, dtype: int64"
      ]
     },
     "execution_count": 44,
     "metadata": {},
     "output_type": "execute_result"
    }
   ],
   "source": [
    "#Validar resultados de la columna año\n",
    "df_unpivot['año'].value_counts()"
   ]
  },
  {
   "cell_type": "code",
   "execution_count": 45,
   "metadata": {},
   "outputs": [],
   "source": [
    "df_unpivot.rename(columns={'UNIVERSIDAD':'nombre_universidad', 'TIPO_UNIVERSIDAD': 'tipo_universidad', 'MODALIDAD': 'modalidad', 'RAMA_ENSEÑANZA':'rama_enseñanza'}, inplace=True)"
   ]
  },
  {
   "cell_type": "code",
   "execution_count": 46,
   "metadata": {},
   "outputs": [
    {
     "data": {
      "text/html": [
       "<div>\n",
       "<style scoped>\n",
       "    .dataframe tbody tr th:only-of-type {\n",
       "        vertical-align: middle;\n",
       "    }\n",
       "\n",
       "    .dataframe tbody tr th {\n",
       "        vertical-align: top;\n",
       "    }\n",
       "\n",
       "    .dataframe thead th {\n",
       "        text-align: right;\n",
       "    }\n",
       "</style>\n",
       "<table border=\"1\" class=\"dataframe\">\n",
       "  <thead>\n",
       "    <tr style=\"text-align: right;\">\n",
       "      <th></th>\n",
       "      <th>año</th>\n",
       "      <th>pais</th>\n",
       "      <th>nombre_universidad</th>\n",
       "      <th>tipo_universidad</th>\n",
       "      <th>modalidad</th>\n",
       "      <th>rama_enseñanza</th>\n",
       "      <th>num_egresados</th>\n",
       "    </tr>\n",
       "  </thead>\n",
       "  <tbody>\n",
       "    <tr>\n",
       "      <th>0</th>\n",
       "      <td>2017</td>\n",
       "      <td>España</td>\n",
       "      <td>Abat Oliba CEU</td>\n",
       "      <td>Universidades Privadas</td>\n",
       "      <td>Presencial</td>\n",
       "      <td>Ciencias Sociales y Jurídicas</td>\n",
       "      <td>450</td>\n",
       "    </tr>\n",
       "    <tr>\n",
       "      <th>1</th>\n",
       "      <td>2017</td>\n",
       "      <td>España</td>\n",
       "      <td>Abat Oliba CEU</td>\n",
       "      <td>Universidades Privadas</td>\n",
       "      <td>Presencial</td>\n",
       "      <td>Ingeniería y Arquitectura</td>\n",
       "      <td>0</td>\n",
       "    </tr>\n",
       "  </tbody>\n",
       "</table>\n",
       "</div>"
      ],
      "text/plain": [
       "    año    pais nombre_universidad        tipo_universidad   modalidad   \n",
       "0  2017  España     Abat Oliba CEU  Universidades Privadas  Presencial  \\\n",
       "1  2017  España     Abat Oliba CEU  Universidades Privadas  Presencial   \n",
       "\n",
       "                  rama_enseñanza  num_egresados  \n",
       "0  Ciencias Sociales y Jurídicas            450  \n",
       "1      Ingeniería y Arquitectura              0  "
      ]
     },
     "execution_count": 46,
     "metadata": {},
     "output_type": "execute_result"
    }
   ],
   "source": [
    "df_unpivot = df_unpivot[['año','pais','nombre_universidad','tipo_universidad','modalidad','rama_enseñanza','num_egresados']]\n",
    "df_unpivot.head(2)"
   ]
  },
  {
   "cell_type": "code",
   "execution_count": 49,
   "metadata": {},
   "outputs": [
    {
     "name": "stdout",
     "output_type": "stream",
     "text": [
      "Datos insertados de manera exitosa!\n"
     ]
    }
   ],
   "source": [
    "cursor = cnx.cursor()\n",
    "\n",
    "data = [tuple(row) for _, row in df_unpivot.iterrows()]\n",
    "\n",
    "query=f\"INSERT INTO stage_egresados_universidad VALUES ({','.join(['%s'] * len(df_unpivot.columns))})\"\n",
    "\n",
    "cursor.executemany(query, data)\n",
    "\n",
    "try:\n",
    "    cnx.commit()\n",
    "    print(\"Datos insertados de manera exitosa!\")\n",
    "except Exception as e:\n",
    "    print(\"Error al insertar los datos\")\n",
    "    print(\"Error code:\", e.errno)\n",
    "    print(\"Error description:\", e.strerror)"
   ]
  },
  {
   "cell_type": "code",
   "execution_count": 52,
   "metadata": {},
   "outputs": [
    {
     "name": "stderr",
     "output_type": "stream",
     "text": [
      "/tmp/ipykernel_285/5771051.py:3: UserWarning: pandas only supports SQLAlchemy connectable (engine/connection) or database string URI or sqlite3 DBAPI2 connection. Other DBAPI2 objects are not tested. Please consider using SQLAlchemy.\n",
      "  df_2 = pd.read_sql(query, cnx)\n"
     ]
    },
    {
     "data": {
      "text/html": [
       "<div>\n",
       "<style scoped>\n",
       "    .dataframe tbody tr th:only-of-type {\n",
       "        vertical-align: middle;\n",
       "    }\n",
       "\n",
       "    .dataframe tbody tr th {\n",
       "        vertical-align: top;\n",
       "    }\n",
       "\n",
       "    .dataframe thead th {\n",
       "        text-align: right;\n",
       "    }\n",
       "</style>\n",
       "<table border=\"1\" class=\"dataframe\">\n",
       "  <thead>\n",
       "    <tr style=\"text-align: right;\">\n",
       "      <th></th>\n",
       "      <th>ao</th>\n",
       "      <th>pais</th>\n",
       "      <th>nombre_universidad</th>\n",
       "      <th>tipo_universidad</th>\n",
       "      <th>modalidad</th>\n",
       "      <th>rama_enseanza</th>\n",
       "      <th>num_egresados</th>\n",
       "    </tr>\n",
       "  </thead>\n",
       "  <tbody>\n",
       "    <tr>\n",
       "      <th>0</th>\n",
       "      <td>2017</td>\n",
       "      <td>España</td>\n",
       "      <td>Abat Oliba CEU</td>\n",
       "      <td>Universidades Privadas</td>\n",
       "      <td>Presencial</td>\n",
       "      <td>Ciencias Sociales y Jurídicas</td>\n",
       "      <td>450</td>\n",
       "    </tr>\n",
       "    <tr>\n",
       "      <th>1</th>\n",
       "      <td>2017</td>\n",
       "      <td>España</td>\n",
       "      <td>Abat Oliba CEU</td>\n",
       "      <td>Universidades Privadas</td>\n",
       "      <td>Presencial</td>\n",
       "      <td>Ingeniería y Arquitectura</td>\n",
       "      <td>0</td>\n",
       "    </tr>\n",
       "  </tbody>\n",
       "</table>\n",
       "</div>"
      ],
      "text/plain": [
       "     ao    pais nombre_universidad        tipo_universidad   modalidad   \n",
       "0  2017  España     Abat Oliba CEU  Universidades Privadas  Presencial  \\\n",
       "1  2017  España     Abat Oliba CEU  Universidades Privadas  Presencial   \n",
       "\n",
       "                   rama_enseanza  num_egresados  \n",
       "0  Ciencias Sociales y Jurídicas            450  \n",
       "1      Ingeniería y Arquitectura              0  "
      ]
     },
     "execution_count": 52,
     "metadata": {},
     "output_type": "execute_result"
    }
   ],
   "source": [
    "query=f\"SELECT * FROM stage_egresados_universidad\"\n",
    "\n",
    "df_2 = pd.read_sql(query, cnx)\n",
    "\n",
    "df_2.head(2)"
   ]
  },
  {
   "cell_type": "code",
   "execution_count": null,
   "metadata": {},
   "outputs": [],
   "source": [
    "cursor.close()"
   ]
  },
  {
   "attachments": {},
   "cell_type": "markdown",
   "metadata": {},
   "source": [
    "## CARGAR EL TERCER DATASET EN STAGING"
   ]
  },
  {
   "cell_type": "code",
   "execution_count": 96,
   "metadata": {},
   "outputs": [],
   "source": [
    "df_1 = pd.read_excel('../data/raw/educ_uoe_grad01.xlsx', sheet_name='Data', skiprows=11, nrows=13)\n",
    "df_2 = pd.read_excel('../data/raw/educ_uoe_grad01.xlsx', sheet_name='Data2', skiprows=11, nrows=13)\n",
    "df_3 = pd.read_excel('../data/raw/educ_uoe_grad01.xlsx', sheet_name='Data3', skiprows=11, nrows=13)"
   ]
  },
  {
   "cell_type": "code",
   "execution_count": 97,
   "metadata": {},
   "outputs": [],
   "source": [
    "df_1.drop('Unnamed: 6', inplace=True, axis=1)"
   ]
  },
  {
   "cell_type": "code",
   "execution_count": 98,
   "metadata": {},
   "outputs": [],
   "source": [
    "#Consolidar información de todos los años en una sola columna\n",
    "df1_unpivot = pd.melt(df_1, id_vars=['GEO/TIME'], value_vars=['2013','2014','2015','2016','2017'], var_name='year', value_name='num_graduated')\n",
    "\n",
    "#Consolidar información de todos los años en una sola columna\n",
    "df2_unpivot = pd.melt(df_2, id_vars=['GEO/TIME'], value_vars=['2013','2014','2015','2016','2017'], var_name='year', value_name='num_graduated_M')\n",
    "\n",
    "#Consolidar información de todos los años en una sola columna\n",
    "df3_unpivot = pd.melt(df_3, id_vars=['GEO/TIME'], value_vars=['2013','2014','2015','2016','2017'], var_name='year', value_name='num_graduated_F')"
   ]
  },
  {
   "cell_type": "code",
   "execution_count": 99,
   "metadata": {},
   "outputs": [
    {
     "data": {
      "text/html": [
       "<div>\n",
       "<style scoped>\n",
       "    .dataframe tbody tr th:only-of-type {\n",
       "        vertical-align: middle;\n",
       "    }\n",
       "\n",
       "    .dataframe tbody tr th {\n",
       "        vertical-align: top;\n",
       "    }\n",
       "\n",
       "    .dataframe thead th {\n",
       "        text-align: right;\n",
       "    }\n",
       "</style>\n",
       "<table border=\"1\" class=\"dataframe\">\n",
       "  <thead>\n",
       "    <tr style=\"text-align: right;\">\n",
       "      <th></th>\n",
       "      <th>GEO/TIME</th>\n",
       "      <th>year</th>\n",
       "      <th>num_graduated</th>\n",
       "      <th>num_graduated_M</th>\n",
       "      <th>num_graduated_F</th>\n",
       "    </tr>\n",
       "  </thead>\n",
       "  <tbody>\n",
       "    <tr>\n",
       "      <th>0</th>\n",
       "      <td>Denmark</td>\n",
       "      <td>2013</td>\n",
       "      <td>66467</td>\n",
       "      <td>28254</td>\n",
       "      <td>38213</td>\n",
       "    </tr>\n",
       "    <tr>\n",
       "      <th>1</th>\n",
       "      <td>Germany (until 1990 former territory of the FRG)</td>\n",
       "      <td>2013</td>\n",
       "      <td>495808</td>\n",
       "      <td>244570</td>\n",
       "      <td>251238</td>\n",
       "    </tr>\n",
       "  </tbody>\n",
       "</table>\n",
       "</div>"
      ],
      "text/plain": [
       "                                           GEO/TIME  year num_graduated   \n",
       "0                                           Denmark  2013         66467  \\\n",
       "1  Germany (until 1990 former territory of the FRG)  2013        495808   \n",
       "\n",
       "  num_graduated_M num_graduated_F  \n",
       "0           28254           38213  \n",
       "1          244570          251238  "
      ]
     },
     "execution_count": 99,
     "metadata": {},
     "output_type": "execute_result"
    }
   ],
   "source": [
    "merge_df = df1_unpivot.merge(df2_unpivot, on=['GEO/TIME','year'] , how='left')\n",
    "merge_df = merge_df.merge(df3_unpivot, on=['GEO/TIME','year'], how='left')\n",
    "merge_df.head(2)"
   ]
  },
  {
   "cell_type": "code",
   "execution_count": 101,
   "metadata": {},
   "outputs": [],
   "source": [
    "merge_df.rename(columns={'GEO/TIME': 'country'}, inplace=True)\n",
    "\n",
    "#Cambiar el orden de las columnas\n",
    "merge_df = merge_df[['year','country','num_graduated_M','num_graduated_F','num_graduated']]\n",
    "\n",
    "merge_df.replace(':', 0, inplace=True)"
   ]
  },
  {
   "cell_type": "code",
   "execution_count": 102,
   "metadata": {},
   "outputs": [
    {
     "name": "stdout",
     "output_type": "stream",
     "text": [
      "Datos insertados de manera exitosa!\n"
     ]
    }
   ],
   "source": [
    "cursor = cnx.cursor()\n",
    "\n",
    "data = [tuple(row) for _, row in merge_df.iterrows()]\n",
    "\n",
    "query=f\"INSERT INTO stage_numero_egresados_internacional VALUES ({','.join(['%s'] * len(merge_df.columns))})\"\n",
    "\n",
    "cursor.executemany(query, data)\n",
    "\n",
    "try:\n",
    "    cnx.commit()\n",
    "    print(\"Datos insertados de manera exitosa!\")\n",
    "except Exception as e:\n",
    "    print(\"Error al insertar los datos\")\n",
    "    print(\"Error code:\", e.errno)\n",
    "    print(\"Error description:\", e.strerror)"
   ]
  },
  {
   "cell_type": "code",
   "execution_count": 105,
   "metadata": {},
   "outputs": [
    {
     "name": "stderr",
     "output_type": "stream",
     "text": [
      "/tmp/ipykernel_285/3675124467.py:3: UserWarning: pandas only supports SQLAlchemy connectable (engine/connection) or database string URI or sqlite3 DBAPI2 connection. Other DBAPI2 objects are not tested. Please consider using SQLAlchemy.\n",
      "  df_2 = pd.read_sql(query, cnx)\n"
     ]
    },
    {
     "data": {
      "text/html": [
       "<div>\n",
       "<style scoped>\n",
       "    .dataframe tbody tr th:only-of-type {\n",
       "        vertical-align: middle;\n",
       "    }\n",
       "\n",
       "    .dataframe tbody tr th {\n",
       "        vertical-align: top;\n",
       "    }\n",
       "\n",
       "    .dataframe thead th {\n",
       "        text-align: right;\n",
       "    }\n",
       "</style>\n",
       "<table border=\"1\" class=\"dataframe\">\n",
       "  <thead>\n",
       "    <tr style=\"text-align: right;\">\n",
       "      <th></th>\n",
       "      <th>year</th>\n",
       "      <th>country</th>\n",
       "      <th>num_graduated_M</th>\n",
       "      <th>num_graduated_F</th>\n",
       "      <th>num_graduated</th>\n",
       "    </tr>\n",
       "  </thead>\n",
       "  <tbody>\n",
       "    <tr>\n",
       "      <th>0</th>\n",
       "      <td>2013</td>\n",
       "      <td>Denmark</td>\n",
       "      <td>28254</td>\n",
       "      <td>38213</td>\n",
       "      <td>66467</td>\n",
       "    </tr>\n",
       "    <tr>\n",
       "      <th>1</th>\n",
       "      <td>2013</td>\n",
       "      <td>Germany (until 1990 former territory of the FRG)</td>\n",
       "      <td>244570</td>\n",
       "      <td>251238</td>\n",
       "      <td>495808</td>\n",
       "    </tr>\n",
       "  </tbody>\n",
       "</table>\n",
       "</div>"
      ],
      "text/plain": [
       "   year                                           country  num_graduated_M   \n",
       "0  2013                                           Denmark            28254  \\\n",
       "1  2013  Germany (until 1990 former territory of the FRG)           244570   \n",
       "\n",
       "   num_graduated_F  num_graduated  \n",
       "0            38213          66467  \n",
       "1           251238         495808  "
      ]
     },
     "execution_count": 105,
     "metadata": {},
     "output_type": "execute_result"
    }
   ],
   "source": [
    "query=f\"SELECT * FROM stage_numero_egresados_internacional\"\n",
    "\n",
    "df_2 = pd.read_sql(query, cnx)\n",
    "\n",
    "df_2.head(2)"
   ]
  },
  {
   "cell_type": "code",
   "execution_count": 106,
   "metadata": {},
   "outputs": [
    {
     "data": {
      "text/plain": [
       "True"
      ]
     },
     "execution_count": 106,
     "metadata": {},
     "output_type": "execute_result"
    }
   ],
   "source": [
    "cursor.close()"
   ]
  },
  {
   "cell_type": "code",
   "execution_count": null,
   "metadata": {},
   "outputs": [],
   "source": [
    "cnx.close()"
   ]
  }
 ],
 "metadata": {
  "kernelspec": {
   "display_name": "Python 3",
   "language": "python",
   "name": "python3"
  },
  "language_info": {
   "codemirror_mode": {
    "name": "ipython",
    "version": 3
   },
   "file_extension": ".py",
   "mimetype": "text/x-python",
   "name": "python",
   "nbconvert_exporter": "python",
   "pygments_lexer": "ipython3",
   "version": "3.10.6"
  },
  "orig_nbformat": 4
 },
 "nbformat": 4,
 "nbformat_minor": 2
}
